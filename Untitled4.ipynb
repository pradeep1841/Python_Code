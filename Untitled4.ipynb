{
  "nbformat": 4,
  "nbformat_minor": 0,
  "metadata": {
    "colab": {
      "provenance": [],
      "authorship_tag": "ABX9TyNDe5nwMU13N6NAnCR58ELF",
      "include_colab_link": true
    },
    "kernelspec": {
      "name": "python3",
      "display_name": "Python 3"
    },
    "language_info": {
      "name": "python"
    }
  },
  "cells": [
    {
      "cell_type": "markdown",
      "metadata": {
        "id": "view-in-github",
        "colab_type": "text"
      },
      "source": [
        "<a href=\"https://colab.research.google.com/github/pradeep1841/Python_Code/blob/main/Untitled4.ipynb\" target=\"_parent\"><img src=\"https://colab.research.google.com/assets/colab-badge.svg\" alt=\"Open In Colab\"/></a>"
      ]
    },
    {
      "cell_type": "markdown",
      "source": [
        "**List Comprehension**\n",
        "\n",
        "\n"
      ],
      "metadata": {
        "id": "ur7BQtw5X2eH"
      }
    },
    {
      "cell_type": "code",
      "execution_count": 2,
      "metadata": {
        "colab": {
          "base_uri": "https://localhost:8080/"
        },
        "id": "TzGVxUV6Wc-c",
        "outputId": "2fbdec9c-16fd-43c7-b229-3ed9527ebd6a"
      },
      "outputs": [
        {
          "output_type": "execute_result",
          "data": {
            "text/plain": [
              "[0, 1, 2, 3, 4, 5, 6, 7, 8, 9]"
            ]
          },
          "metadata": {},
          "execution_count": 2
        }
      ],
      "source": [
        "li = [x for x in range(10)]\n",
        "li"
      ]
    },
    {
      "cell_type": "code",
      "source": [
        "li = [x**2 for x in range(10)]\n",
        "li"
      ],
      "metadata": {
        "colab": {
          "base_uri": "https://localhost:8080/"
        },
        "id": "SZv7bPUHW_r4",
        "outputId": "c436702b-a05c-4c57-f68a-f2269530b3f1"
      },
      "execution_count": 8,
      "outputs": [
        {
          "output_type": "execute_result",
          "data": {
            "text/plain": [
              "[0, 1, 4, 9, 16, 25, 36, 49, 64, 81]"
            ]
          },
          "metadata": {},
          "execution_count": 8
        }
      ]
    },
    {
      "cell_type": "code",
      "source": [
        "li = [x for x in(10,5,8,12,3) if x%2==0]\n",
        "li"
      ],
      "metadata": {
        "colab": {
          "base_uri": "https://localhost:8080/"
        },
        "id": "FY7QNqYJXIVO",
        "outputId": "2a8622c7-f259-4733-f1e2-bbd9a4284ab7"
      },
      "execution_count": 4,
      "outputs": [
        {
          "output_type": "execute_result",
          "data": {
            "text/plain": [
              "[10, 8, 12]"
            ]
          },
          "metadata": {},
          "execution_count": 4
        }
      ]
    },
    {
      "cell_type": "code",
      "source": [
        "li = [x.lower() for x in 'Python']\n",
        "li"
      ],
      "metadata": {
        "colab": {
          "base_uri": "https://localhost:8080/"
        },
        "id": "nLcS31z5XUD6",
        "outputId": "fd834121-91b8-4aef-f3ba-f384e90c1ae0"
      },
      "execution_count": 7,
      "outputs": [
        {
          "output_type": "execute_result",
          "data": {
            "text/plain": [
              "['p', 'y', 't', 'h', 'o', 'n']"
            ]
          },
          "metadata": {},
          "execution_count": 7
        }
      ]
    },
    {
      "cell_type": "code",
      "source": [
        "def topten():\n",
        "  n = 1\n",
        "  while n<=10:\n",
        "    #sq = n*n\n",
        "    yield n**n\n",
        "    n+=1\n",
        "\n",
        "values=topten()\n",
        "\n",
        "print(values.__next__())\n",
        "print(values.__next__())\n",
        "\n",
        "for i in values:\n",
        "  print(i)"
      ],
      "metadata": {
        "colab": {
          "base_uri": "https://localhost:8080/"
        },
        "id": "ClCnC5AnYNYb",
        "outputId": "1eb4bb61-5bf7-47f6-85bf-a8db3e9fd112"
      },
      "execution_count": 8,
      "outputs": [
        {
          "output_type": "stream",
          "name": "stdout",
          "text": [
            "1\n",
            "4\n",
            "27\n",
            "256\n",
            "3125\n",
            "46656\n",
            "823543\n",
            "16777216\n",
            "387420489\n",
            "10000000000\n"
          ]
        }
      ]
    },
    {
      "cell_type": "code",
      "source": [
        "from functools import cache, lru_cache\n",
        "@lru_cache(maxsize=5)\n",
        "def fib(n):\n",
        "  if n<=1:\n",
        "    return n\n",
        "  return fib(n-1) + fib(n-2)\n",
        "\n",
        "def main():\n",
        "  for i in range(100):\n",
        "    print(i, fib(i))\n",
        "  print(\"Done\")\n",
        "\n",
        "if __name__=='__main__':\n",
        "  main()"
      ],
      "metadata": {
        "colab": {
          "base_uri": "https://localhost:8080/"
        },
        "id": "s52pamAzk34j",
        "outputId": "4c4f39c6-6e33-4c4b-812d-fb56d6d2d280"
      },
      "execution_count": 16,
      "outputs": [
        {
          "output_type": "stream",
          "name": "stdout",
          "text": [
            "0 0\n",
            "1 1\n",
            "2 1\n",
            "3 2\n",
            "4 3\n",
            "5 5\n",
            "6 8\n",
            "7 13\n",
            "8 21\n",
            "9 34\n",
            "10 55\n",
            "11 89\n",
            "12 144\n",
            "13 233\n",
            "14 377\n",
            "15 610\n",
            "16 987\n",
            "17 1597\n",
            "18 2584\n",
            "19 4181\n",
            "20 6765\n",
            "21 10946\n",
            "22 17711\n",
            "23 28657\n",
            "24 46368\n",
            "25 75025\n",
            "26 121393\n",
            "27 196418\n",
            "28 317811\n",
            "29 514229\n",
            "30 832040\n",
            "31 1346269\n",
            "32 2178309\n",
            "33 3524578\n",
            "34 5702887\n",
            "35 9227465\n",
            "36 14930352\n",
            "37 24157817\n",
            "38 39088169\n",
            "39 63245986\n",
            "40 102334155\n",
            "41 165580141\n",
            "42 267914296\n",
            "43 433494437\n",
            "44 701408733\n",
            "45 1134903170\n",
            "46 1836311903\n",
            "47 2971215073\n",
            "48 4807526976\n",
            "49 7778742049\n",
            "50 12586269025\n",
            "51 20365011074\n",
            "52 32951280099\n",
            "53 53316291173\n",
            "54 86267571272\n",
            "55 139583862445\n",
            "56 225851433717\n",
            "57 365435296162\n",
            "58 591286729879\n",
            "59 956722026041\n",
            "60 1548008755920\n",
            "61 2504730781961\n",
            "62 4052739537881\n",
            "63 6557470319842\n",
            "64 10610209857723\n",
            "65 17167680177565\n",
            "66 27777890035288\n",
            "67 44945570212853\n",
            "68 72723460248141\n",
            "69 117669030460994\n",
            "70 190392490709135\n",
            "71 308061521170129\n",
            "72 498454011879264\n",
            "73 806515533049393\n",
            "74 1304969544928657\n",
            "75 2111485077978050\n",
            "76 3416454622906707\n",
            "77 5527939700884757\n",
            "78 8944394323791464\n",
            "79 14472334024676221\n",
            "80 23416728348467685\n",
            "81 37889062373143906\n",
            "82 61305790721611591\n",
            "83 99194853094755497\n",
            "84 160500643816367088\n",
            "85 259695496911122585\n",
            "86 420196140727489673\n",
            "87 679891637638612258\n",
            "88 1100087778366101931\n",
            "89 1779979416004714189\n",
            "90 2880067194370816120\n",
            "91 4660046610375530309\n",
            "92 7540113804746346429\n",
            "93 12200160415121876738\n",
            "94 19740274219868223167\n",
            "95 31940434634990099905\n",
            "96 51680708854858323072\n",
            "97 83621143489848422977\n",
            "98 135301852344706746049\n",
            "99 218922995834555169026\n",
            "Done\n"
          ]
        }
      ]
    },
    {
      "cell_type": "code",
      "source": [
        "## =, copy(), deepcopy()\n",
        "\n",
        "list1= [1,2,3,4]\n",
        "list2 = list1\n",
        "list1\n"
      ],
      "metadata": {
        "colab": {
          "base_uri": "https://localhost:8080/"
        },
        "id": "JmIzubUhnEdD",
        "outputId": "deb15a83-4f54-4d42-af40-11f55761021b"
      },
      "execution_count": 26,
      "outputs": [
        {
          "output_type": "execute_result",
          "data": {
            "text/plain": [
              "[1, 2, 3, 4]"
            ]
          },
          "metadata": {},
          "execution_count": 26
        }
      ]
    },
    {
      "cell_type": "code",
      "source": [
        "list2[1]=100"
      ],
      "metadata": {
        "id": "tezDLf9fpBwV"
      },
      "execution_count": 27,
      "outputs": []
    },
    {
      "cell_type": "code",
      "source": [
        "list2"
      ],
      "metadata": {
        "colab": {
          "base_uri": "https://localhost:8080/"
        },
        "id": "hQcMBNpBpOZJ",
        "outputId": "5e4fd2fe-29f2-45a3-9be9-3a092bf9e8aa"
      },
      "execution_count": 28,
      "outputs": [
        {
          "output_type": "execute_result",
          "data": {
            "text/plain": [
              "[1, 100, 3, 4]"
            ]
          },
          "metadata": {},
          "execution_count": 28
        }
      ]
    },
    {
      "cell_type": "code",
      "source": [
        "list1"
      ],
      "metadata": {
        "colab": {
          "base_uri": "https://localhost:8080/"
        },
        "id": "EiIA4RDlpWtQ",
        "outputId": "b5dc20db-de69-4b1a-fb72-7347b1b1ede8"
      },
      "execution_count": 29,
      "outputs": [
        {
          "output_type": "execute_result",
          "data": {
            "text/plain": [
              "[1, 100, 3, 4]"
            ]
          },
          "metadata": {},
          "execution_count": 29
        }
      ]
    },
    {
      "cell_type": "code",
      "source": [
        "# Shallow Copy\n",
        "list1= [1,2,3,4]\n",
        "list2 = list1.copy()"
      ],
      "metadata": {
        "id": "OpctccBupZco"
      },
      "execution_count": 31,
      "outputs": []
    },
    {
      "cell_type": "code",
      "source": [
        "list2[1]=100"
      ],
      "metadata": {
        "id": "vIr2ACfrqFLj"
      },
      "execution_count": 33,
      "outputs": []
    },
    {
      "cell_type": "code",
      "source": [
        "list2"
      ],
      "metadata": {
        "colab": {
          "base_uri": "https://localhost:8080/"
        },
        "id": "fr50ncHBqLZa",
        "outputId": "47a3fbf3-bb44-4c83-fa9f-21900795d808"
      },
      "execution_count": 34,
      "outputs": [
        {
          "output_type": "execute_result",
          "data": {
            "text/plain": [
              "[1, 100, 3, 4]"
            ]
          },
          "metadata": {},
          "execution_count": 34
        }
      ]
    },
    {
      "cell_type": "code",
      "source": [
        "list1"
      ],
      "metadata": {
        "colab": {
          "base_uri": "https://localhost:8080/"
        },
        "id": "ddVby2l9qQPJ",
        "outputId": "0933f415-a36a-4ae3-c51c-42c5156db252"
      },
      "execution_count": 35,
      "outputs": [
        {
          "output_type": "execute_result",
          "data": {
            "text/plain": [
              "[1, 2, 3, 4]"
            ]
          },
          "metadata": {},
          "execution_count": 35
        }
      ]
    },
    {
      "cell_type": "code",
      "source": [],
      "metadata": {
        "id": "3xb6-w1Yqg9k"
      },
      "execution_count": null,
      "outputs": []
    },
    {
      "cell_type": "code",
      "source": [],
      "metadata": {
        "id": "esbmoa9tqxLB"
      },
      "execution_count": null,
      "outputs": []
    },
    {
      "cell_type": "code",
      "source": [
        "list1= [1,2,3,4]\n",
        "list2 = list1.copy()\n",
        "list2[1]=100\n",
        "list2"
      ],
      "metadata": {
        "colab": {
          "base_uri": "https://localhost:8080/"
        },
        "id": "WFZwp-L4qSaB",
        "outputId": "093deba9-1b8a-4396-ac55-0d1e36ec5bd5"
      },
      "execution_count": 43,
      "outputs": [
        {
          "output_type": "execute_result",
          "data": {
            "text/plain": [
              "[1, 100, 3, 4]"
            ]
          },
          "metadata": {},
          "execution_count": 43
        }
      ]
    },
    {
      "cell_type": "code",
      "source": [
        "list1"
      ],
      "metadata": {
        "colab": {
          "base_uri": "https://localhost:8080/"
        },
        "id": "0O0jr68GrD_g",
        "outputId": "e7d225b6-c318-4803-dddd-67adfd41b43d"
      },
      "execution_count": 42,
      "outputs": [
        {
          "output_type": "execute_result",
          "data": {
            "text/plain": [
              "[1, 2, 3, 4]"
            ]
          },
          "metadata": {},
          "execution_count": 42
        }
      ]
    },
    {
      "cell_type": "code",
      "source": [
        "list1=[[1,2,3,4],[5,6,7,8]]\n",
        "list2=list1.copy()"
      ],
      "metadata": {
        "id": "kRBMOq0OrETp"
      },
      "execution_count": 51,
      "outputs": []
    },
    {
      "cell_type": "code",
      "source": [
        "list1[1][0]=100"
      ],
      "metadata": {
        "id": "LUI--vBbrEVj"
      },
      "execution_count": 52,
      "outputs": []
    },
    {
      "cell_type": "code",
      "source": [
        "list1"
      ],
      "metadata": {
        "colab": {
          "base_uri": "https://localhost:8080/"
        },
        "id": "t394swnMrEXt",
        "outputId": "185f3d53-b09e-4227-c0e5-136d35271edc"
      },
      "execution_count": 53,
      "outputs": [
        {
          "output_type": "execute_result",
          "data": {
            "text/plain": [
              "[[1, 2, 3, 4], [100, 6, 7, 8]]"
            ]
          },
          "metadata": {},
          "execution_count": 53
        }
      ]
    },
    {
      "cell_type": "code",
      "source": [
        "list2"
      ],
      "metadata": {
        "colab": {
          "base_uri": "https://localhost:8080/"
        },
        "id": "o36evxM-rEZ1",
        "outputId": "2bdd3607-69f3-4e17-b0b7-f3b432e18867"
      },
      "execution_count": 54,
      "outputs": [
        {
          "output_type": "execute_result",
          "data": {
            "text/plain": [
              "[[1, 2, 3, 4], [100, 6, 7, 8]]"
            ]
          },
          "metadata": {},
          "execution_count": 54
        }
      ]
    },
    {
      "cell_type": "code",
      "source": [
        "list1.append([2,3,4,5])"
      ],
      "metadata": {
        "id": "sg6fxAw0rEcL"
      },
      "execution_count": 56,
      "outputs": []
    },
    {
      "cell_type": "code",
      "source": [
        "list1\n"
      ],
      "metadata": {
        "colab": {
          "base_uri": "https://localhost:8080/"
        },
        "id": "W5tG9g19rEfO",
        "outputId": "7aafb5e5-43b6-4dba-9e0c-8f561ec29626"
      },
      "execution_count": 57,
      "outputs": [
        {
          "output_type": "execute_result",
          "data": {
            "text/plain": [
              "[[1, 2, 3, 4], [100, 6, 7, 8], [2, 3, 4, 5]]"
            ]
          },
          "metadata": {},
          "execution_count": 57
        }
      ]
    },
    {
      "cell_type": "code",
      "source": [
        "list2"
      ],
      "metadata": {
        "colab": {
          "base_uri": "https://localhost:8080/"
        },
        "id": "karH0pUztJuF",
        "outputId": "8b094491-f6af-4921-bb72-1289bcb86000"
      },
      "execution_count": 58,
      "outputs": [
        {
          "output_type": "execute_result",
          "data": {
            "text/plain": [
              "[[1, 2, 3, 4], [100, 6, 7, 8]]"
            ]
          },
          "metadata": {},
          "execution_count": 58
        }
      ]
    },
    {
      "cell_type": "code",
      "source": [
        "## deep copy\n",
        "## In a normal list(without inner list) deepcopy and hallow copy are same.\n",
        "\n",
        "import copy\n",
        "list1 = [1,2,3,4]\n",
        "list2=copy.deepcopy(list1)"
      ],
      "metadata": {
        "id": "fXKO_NrqtMG6"
      },
      "execution_count": 59,
      "outputs": []
    },
    {
      "cell_type": "code",
      "source": [
        "list2[1]=100"
      ],
      "metadata": {
        "id": "bsElnfu0teb2"
      },
      "execution_count": 61,
      "outputs": []
    },
    {
      "cell_type": "code",
      "source": [
        "list2"
      ],
      "metadata": {
        "colab": {
          "base_uri": "https://localhost:8080/"
        },
        "id": "uVc0L4kttgZ0",
        "outputId": "163afccb-556f-412d-8f03-01ea434cf2e5"
      },
      "execution_count": 62,
      "outputs": [
        {
          "output_type": "execute_result",
          "data": {
            "text/plain": [
              "[1, 100, 3, 4]"
            ]
          },
          "metadata": {},
          "execution_count": 62
        }
      ]
    },
    {
      "cell_type": "code",
      "source": [
        "list1"
      ],
      "metadata": {
        "colab": {
          "base_uri": "https://localhost:8080/"
        },
        "id": "--cWFBjatlZG",
        "outputId": "994f3df9-b767-4760-9300-870d6c4cff8c"
      },
      "execution_count": 63,
      "outputs": [
        {
          "output_type": "execute_result",
          "data": {
            "text/plain": [
              "[1, 2, 3, 4]"
            ]
          },
          "metadata": {},
          "execution_count": 63
        }
      ]
    },
    {
      "cell_type": "code",
      "source": [
        "# Shallowcopy != deepcopy\n",
        "list1 = [[1,2,3,4],[3,5,6],[7,8]]\n",
        "list2 = copy.deepcopy(list1)"
      ],
      "metadata": {
        "id": "R91GHqJXtn7w"
      },
      "execution_count": 65,
      "outputs": []
    },
    {
      "cell_type": "code",
      "source": [
        "list2[1][0]=100"
      ],
      "metadata": {
        "id": "BEmZtnR2uJiP"
      },
      "execution_count": 67,
      "outputs": []
    },
    {
      "cell_type": "code",
      "source": [
        "list2, list1"
      ],
      "metadata": {
        "colab": {
          "base_uri": "https://localhost:8080/"
        },
        "id": "P3wlY70GuXl3",
        "outputId": "a7210843-e5e9-4b85-9de2-7847fd1702cb"
      },
      "execution_count": 68,
      "outputs": [
        {
          "output_type": "execute_result",
          "data": {
            "text/plain": [
              "([[1, 2, 3, 4], [100, 5, 6], [7, 8]], [[1, 2, 3, 4], [3, 5, 6], [7, 8]])"
            ]
          },
          "metadata": {},
          "execution_count": 68
        }
      ]
    },
    {
      "cell_type": "code",
      "source": [],
      "metadata": {
        "id": "V8sQ2558udGU"
      },
      "execution_count": null,
      "outputs": []
    }
  ]
}