{
  "nbformat": 4,
  "nbformat_minor": 0,
  "metadata": {
    "colab": {
      "provenance": [],
      "authorship_tag": "ABX9TyPoDF/JWqwpB2+67/j2WlDT",
      "include_colab_link": true
    },
    "kernelspec": {
      "name": "python3",
      "display_name": "Python 3"
    },
    "language_info": {
      "name": "python"
    }
  },
  "cells": [
    {
      "cell_type": "markdown",
      "metadata": {
        "id": "view-in-github",
        "colab_type": "text"
      },
      "source": [
        "<a href=\"https://colab.research.google.com/github/pradeep1841/Python_Code/blob/main/Untitled2.ipynb\" target=\"_parent\"><img src=\"https://colab.research.google.com/assets/colab-badge.svg\" alt=\"Open In Colab\"/></a>"
      ]
    },
    {
      "cell_type": "code",
      "execution_count": 2,
      "metadata": {
        "colab": {
          "base_uri": "https://localhost:8080/"
        },
        "id": "j219ebhm7XHx",
        "outputId": "f348ca11-3ff8-48e3-a62b-61a12ccc373c"
      },
      "outputs": [
        {
          "output_type": "stream",
          "name": "stdout",
          "text": [
            "Enter the Number:10\n",
            " 10 is not a Prime Number\n"
          ]
        }
      ],
      "source": [
        "## TO find the Prime Number\n",
        "a = int(input(\"Enter the Number:\"))\n",
        "count = 0\n",
        "i = 1\n",
        "while i <= a:\n",
        "  if a%i==0:\n",
        "    count+=1\n",
        "  i+=1\n",
        "if count==2:\n",
        "  print(f\" {a} is a Prime Number\")\n",
        "else:\n",
        "  print(f\" {a} is not a Prime Number\")"
      ]
    },
    {
      "cell_type": "code",
      "source": [
        "## Find the value and its index number using for loop and with enumuration\n",
        "a = [10, 20, 30, 40,50]\n",
        "for i in range(len(a)):\n",
        "  print(f\" index at {i}, and value:{a[i]}\")\n",
        "\n",
        "#Through the enumerate\n",
        "for i, j in enumerate(a):\n",
        "  print(f\"index at {i},and value:{j}\")"
      ],
      "metadata": {
        "colab": {
          "base_uri": "https://localhost:8080/"
        },
        "id": "Y5OALyu88Rm_",
        "outputId": "96c868ff-bef5-41fa-b323-5887fa63fd3d"
      },
      "execution_count": 6,
      "outputs": [
        {
          "output_type": "stream",
          "name": "stdout",
          "text": [
            " index at 0, and value:10\n",
            " index at 1, and value:20\n",
            " index at 2, and value:30\n",
            " index at 3, and value:40\n",
            " index at 4, and value:50\n",
            "index at 0,and value:10\n",
            "index at 1,and value:20\n",
            "index at 2,and value:30\n",
            "index at 3,and value:40\n",
            "index at 4,and value:50\n"
          ]
        }
      ]
    },
    {
      "cell_type": "code",
      "source": [],
      "metadata": {
        "id": "YNm4Flzo9cYa"
      },
      "execution_count": null,
      "outputs": []
    }
  ]
}